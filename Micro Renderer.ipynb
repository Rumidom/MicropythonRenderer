{
 "cells": [
  {
   "cell_type": "code",
   "execution_count": 147,
   "id": "9d877a88-d3bf-4d89-852e-995f33ee6cc6",
   "metadata": {},
   "outputs": [],
   "source": [
    "from PIL import Image\n",
    "import random\n",
    "import math\n",
    "import time\n",
    "from IPython.display import display\n",
    "from IPython.display import clear_output\n",
    "\n",
    "im_size = (240,240)\n",
    "colorPallet = [(0,200,200),(0,200,0),(200,0,0),(0,0,200)]\n",
    "g_ang = 0"
   ]
  },
  {
   "cell_type": "code",
   "execution_count": 181,
   "id": "45eae374-3491-4b13-b4da-ed773108fb34",
   "metadata": {},
   "outputs": [
    {
     "ename": "SyntaxError",
     "evalue": "invalid syntax. Perhaps you forgot a comma? (1502961713.py, line 101)",
     "output_type": "error",
     "traceback": [
      "  \u001b[36mCell\u001b[39m\u001b[36m \u001b[39m\u001b[32mIn[181]\u001b[39m\u001b[32m, line 101\u001b[39m\n\u001b[31m    \u001b[39m\u001b[31mfor j,t_i in enumerate(self.triangles[]):\u001b[39m\n                           ^\n\u001b[31mSyntaxError\u001b[39m\u001b[31m:\u001b[39m invalid syntax. Perhaps you forgot a comma?\n"
     ]
    }
   ],
   "source": [
    "\n",
    "def rotPnt(ang,pnt):\n",
    "    Yrot = getYrot(ang) \n",
    "    pnt_out = transformPnt(Yrot[0],Yrot[1],Yrot[2],pnt)\n",
    "    return pnt_out\n",
    "\n",
    "def getYrot(ang_d):\n",
    "    ang = math.radians(ang_d)\n",
    "    xhat = (math.cos(ang),0.0,math.sin(ang))\n",
    "    yhat = (0.0,1.0,0.0)\n",
    "    zhat = (-math.sin(ang),0.0,math.cos(ang))\n",
    "    return (xhat,yhat,zhat)\n",
    "    \n",
    "def transformPnt(xhat,yhat,zhat,pnt):\n",
    "    out_x = xhat[0]*pnt[0]+xhat[1]*pnt[0]+xhat[2]*pnt[0]\n",
    "    out_y = yhat[0]*pnt[1]+yhat[1]*pnt[1]+yhat[2]*pnt[1]\n",
    "    out_z = zhat[0]*pnt[2]+zhat[1]*pnt[2]+zhat[2]*pnt[2]\n",
    "    #print((out_x,out_y,out_z))\n",
    "    return (out_x,out_y,out_z)\n",
    "    \n",
    "def Dot_2d(a,b):\n",
    "    return (a[0]*b[0] + a[1]*b[1])\n",
    "\n",
    "def getperpendicular_clock(a):\n",
    "    return (a[1],-a[0])\n",
    "    \n",
    "def verticeToScreen(vertice,g_ang,screen_size):\n",
    "    pnt = rotPnt(g_ang,vertice)\n",
    "    screenHeightWorld = 3\n",
    "    pixelsPerUnitWorld = screen_size[1]/screenHeightWorld\n",
    "    pixelOffset = (pnt[0]*pixelsPerUnitWorld,pnt[1]*pixelsPerUnitWorld)\n",
    "    return ((screen_size[0]/2)+pixelOffset[0],(screen_size[1]/2)+pixelOffset[1])\n",
    "\n",
    "class line_2d():\n",
    "    def __init__(self,a,b):\n",
    "        self.a = a\n",
    "        self.b = b\n",
    "        \n",
    "    def isPointOnRightSide(self,pnt):\n",
    "        ap = (pnt[0]-self.a[0],pnt[1]-self.a[1])\n",
    "        ab_perp = getperpendicular_clock((self.b[0]-self.a[0],self.b[1]-self.a[1]))\n",
    "        return (Dot_2d(ap,ab_perp) > 0)\n",
    "\n",
    "class triangle_2d():\n",
    "    def __init__(self,a,b,c,color = (255, 255, 255) ):\n",
    "        self.a = a\n",
    "        self.b = b\n",
    "        self.c = c\n",
    "        self.ab = line_2d(a,b)\n",
    "        self.bc = line_2d(b,c)\n",
    "        self.ca = line_2d(c,a)\n",
    "        self.color = color\n",
    "\n",
    "    def pointInTriangle(self,pnt):        \n",
    "        max_x = max(self.a[0],self.b[0],self.c[0])\n",
    "        max_y = max(self.a[1],self.b[1],self.c[1])\n",
    "        min_x = min(self.a[0],self.b[0],self.c[0])\n",
    "        min_y = min(self.a[1],self.b[1],self.c[1])\n",
    "        if pnt[0] < max_x and pnt[0]> min_x:\n",
    "            if pnt[1] < max_y and pnt[1]> min_y:\n",
    "                check_ab = self.ab.isPointOnRightSide(pnt)\n",
    "                check_bc = self.bc.isPointOnRightSide(pnt)\n",
    "                check_ca = self.ca.isPointOnRightSide(pnt)\n",
    "                return (check_ab == check_bc and check_bc == check_ca )\n",
    "        return False\n",
    "\n",
    "    def renderPoints(self,im):\n",
    "        im.putpixel(self.a, self.color)\n",
    "        im.putpixel(self.b, self.color)\n",
    "        im.putpixel(self.c, self.color)\n",
    "        \n",
    "    def render(self,im):\n",
    "        for x in range(im.size[0]):\n",
    "            for y in range(im.size[1]):\n",
    "                if self.pointInTriangle((x,y)):\n",
    "                    im.putpixel((x,y), self.color)\n",
    "\n",
    "class triangle_3d():\n",
    "    def __init__(self,a,b,c,color = (255, 255, 255) ):\n",
    "        self.a = a\n",
    "        self.b = b\n",
    "        self.c = c\n",
    "        self.color = color\n",
    "        \n",
    "    def trig_3dToTrig_2d(self):\n",
    "        a_ = verticeToScreen(self.a,g_ang,im_size)\n",
    "        b_ = verticeToScreen(self.b,g_ang,im_size)\n",
    "        c_ = verticeToScreen(self.c,g_ang,im_size)\n",
    "        return triangle_2d(a_,b_,c_,color=self.color)\n",
    "\n",
    "    def render(self,im):\n",
    "        self.trig_3dToTrig_2d().render(im)\n",
    "        \n",
    "class model():\n",
    "    def __init__(self,vertices,faces,triangles):\n",
    "        self.vertices = vertices\n",
    "        self.faces = faces\n",
    "        self.triangles = triangles\n",
    "        self.ang = 0\n",
    "    \n",
    "    def render(self,im):\n",
    "        for j,t_i in enumerate(self.triangles):\n",
    "            a = self.vertices[t_i[0]]\n",
    "            b = self.vertices[t_i[1]]\n",
    "            c = self.vertices[t_i[2]]\n",
    "            t = triangle_3d(a,b,c,color=colorPallet[j%len(colorPallet)])\n",
    "            t.render(im)\n",
    "\n",
    "def loadObj(path):\n",
    "    with open(path) as file:\n",
    "        lines = [line.rstrip() for line in file]\n",
    "    triangles = []\n",
    "    faces = []\n",
    "    vertices = []\n",
    "    for line in lines:\n",
    "        if line[0:2] == 'v ':\n",
    "            vertice_str = line[2:].split(' ')\n",
    "            v = []\n",
    "            for item in vertice_str:\n",
    "                v.append(float(item))\n",
    "            #print(v)\n",
    "            vertices.append(v)\n",
    "        if line[0:2] == \"f \":\n",
    "            face_str = line[2:].split(' ')\n",
    "            f = []\n",
    "            for tstr in face_str:\n",
    "                f.append(int(tstr.split('/')[0]))\n",
    "            faces.append(tuple(f))\n",
    "    for face in faces:\n",
    "        #print(face)\n",
    "        a = face[0]-1\n",
    "        for i in range(len(face)-2):\n",
    "            b = face[i+1]-1\n",
    "            c = face[i+2]-1\n",
    "            triangles.append((a,b,c))\n",
    "    \n",
    "    return(model(vertices,faces,triangles))\n",
    "\n",
    "\n"
   ]
  },
  {
   "cell_type": "code",
   "execution_count": 180,
   "id": "12108981-47e8-4540-ad0b-69d4d55f1c1d",
   "metadata": {},
   "outputs": [
    {
     "data": {
      "image/jpeg": "[encoded data removed]",
      "image/png": "[encoded data removed]",
      "text/plain": [
       "<PIL.Image.Image image mode=RGB size=240x240>"
      ]
     },
     "execution_count": 180,
     "metadata": {},
     "output_type": "execute_result"
    }
   ],
   "source": [
    "im = Image.new('RGB', im_size)\n",
    "tring = triangle_2d((50,50),(50,100),(100,100))\n",
    "tring.render(im)\n",
    "#tring.renderPoints(im)\n",
    "im"
   ]
  },
  {
   "cell_type": "code",
   "execution_count": 177,
   "id": "d2270ce2-ebef-4843-bc43-a4a40342da13",
   "metadata": {},
   "outputs": [
    {
     "name": "stdout",
     "output_type": "stream",
     "text": [
      "(3, 6, 4)\n",
      "(3, 4, 1)\n",
      "(2, 3, 1)\n",
      "(2, 1, 0)\n",
      "(7, 2, 0)\n",
      "(7, 0, 5)\n",
      "(6, 7, 5)\n",
      "(6, 5, 4)\n",
      "(5, 0, 1)\n",
      "(5, 1, 4)\n",
      "(6, 3, 2)\n",
      "(6, 2, 7)\n",
      "[0.5, 0.5, 0.5]\n",
      "[0.5, 0.5, -0.5]\n",
      "[0.5, -0.5, 0.5]\n",
      "[0.5, -0.5, -0.5]\n",
      "[-0.5, 0.5, -0.5]\n",
      "[-0.5, 0.5, 0.5]\n",
      "[-0.5, -0.5, -0.5]\n",
      "[-0.5, -0.5, 0.5]\n"
     ]
    }
   ],
   "source": [
    "cube = loadObj('cube.obj')\n",
    "g_ang\n",
    "for t in cube.triangles:\n",
    "    print(t)\n",
    "for v in cube.vertices:\n",
    "    print(v)\n",
    "count = 0\n"
   ]
  },
  {
   "cell_type": "code",
   "execution_count": 178,
   "id": "11ee1215-a062-40a3-83c9-87f1237873b4",
   "metadata": {},
   "outputs": [
    {
     "data": {
      "image/jpeg": "[encoded data removed]",
      "image/png": "[encoded data removed]",
      "text/plain": [
       "<PIL.Image.Image image mode=RGB size=240x240>"
      ]
     },
     "metadata": {},
     "output_type": "display_data"
    }
   ],
   "source": [
    "im = Image.new('RGB', im_size)\n",
    "clear_output(wait=True)\n",
    "cube.render(im)\n",
    "display(im)\n",
    "time.sleep(1)"
   ]
  },
  {
   "cell_type": "code",
   "execution_count": 136,
   "id": "8d1fcf43-a4f7-4d30-b471-a44442327ba7",
   "metadata": {},
   "outputs": [
    {
     "data": {
      "text/plain": [
       "2"
      ]
     },
     "execution_count": 136,
     "metadata": {},
     "output_type": "execute_result"
    }
   ],
   "source": [
    "14%6"
   ]
  },
  {
   "cell_type": "code",
   "execution_count": null,
   "id": "db25493f-df60-43a6-87de-fc4ca9aa3624",
   "metadata": {},
   "outputs": [],
   "source": []
  }
 ],
 "metadata": {
  "kernelspec": {
   "display_name": "Python 3 (ipykernel)",
   "language": "python",
   "name": "python3"
  },
  "language_info": {
   "codemirror_mode": {
    "name": "ipython",
    "version": 3
   },
   "file_extension": ".py",
   "mimetype": "text/x-python",
   "name": "python",
   "nbconvert_exporter": "python",
   "pygments_lexer": "ipython3",
   "version": "3.13.7"
  }
 },
 "nbformat": 4,
 "nbformat_minor": 5
}
