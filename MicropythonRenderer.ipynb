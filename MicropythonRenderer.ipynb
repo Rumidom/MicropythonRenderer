{
 "cells": [
  {
   "cell_type": "code",
   "execution_count": 1,
   "id": "9d877a88-d3bf-4d89-852e-995f33ee6cc6",
   "metadata": {},
   "outputs": [],
   "source": [
    "from PIL import Image\n",
    "import random\n",
    "import math\n",
    "import time\n",
    "from IPython.display import display\n",
    "from IPython.display import clear_output\n",
    "from PIL import Image, ImageDraw\n",
    "\n",
    "im_size = (240,240)\n",
    "pastelColorPallet = [(27,133,184),(90,82,85),(85,158,131),(174,90,65),(195,203,113),(249,107,75),(249,167,143),(195,155,211),(161,126,111)]\n"
   ]
  },
  {
   "cell_type": "code",
   "execution_count": 15,
   "id": "45eae374-3491-4b13-b4da-ed773108fb34",
   "metadata": {},
   "outputs": [],
   "source": [
    "\n",
    "def rotPnt(ang,pnt):\n",
    "    rotY = getYrot(ang[1]) \n",
    "    rotX = getXrot(ang[0])\n",
    "    rot_a = transformVec(rotY[0],rotY[1],rotY[2],rotX[0])\n",
    "    rot_b = transformVec(rotY[0],rotY[1],rotY[2],rotX[1])\n",
    "    rot_c = transformVec(rotY[0],rotY[1],rotY[2],rotX[2])\n",
    "    pnt_out = transformVec(rot_a,rot_b,rot_c,pnt)\n",
    "    return pnt_out\n",
    "\n",
    "def getYrot(ang_d):\n",
    "    ang = math.radians(ang_d)\n",
    "    xhat = (math.cos(ang),0.0,math.sin(ang))\n",
    "    yhat = (0.0,1.0,0.0)\n",
    "    zhat = (-math.sin(ang),0.0,math.cos(ang))\n",
    "    return (xhat,yhat,zhat)\n",
    "    \n",
    "def getXrot(ang_d):\n",
    "    ang = math.radians(ang_d)\n",
    "    xhat = (1.0,0.0,0.0)\n",
    "    yhat = (0.0,math.cos(ang),-math.sin(ang))\n",
    "    zhat = (0.0,math.sin(ang),math.cos(ang))\n",
    "    return (xhat,yhat,zhat)\n",
    "    \n",
    "def transformVec(xhat,yhat,zhat,pnt):\n",
    "    out_x = xhat[0]*pnt[0]+yhat[0]*pnt[1]+zhat[0]*pnt[2]\n",
    "    out_y = xhat[1]*pnt[0]+yhat[1]*pnt[1]+zhat[1]*pnt[2]\n",
    "    out_z = xhat[2]*pnt[0]+yhat[2]*pnt[1]+zhat[2]*pnt[2]\n",
    "    #print((out_x,out_y,out_z))\n",
    "    return (out_x,out_y,out_z)\n",
    "    \n",
    "def Dot_2d(a,b):\n",
    "    return (a[0]*b[0] + a[1]*b[1])\n",
    "\n",
    "def getperpendicular_clock(a):\n",
    "    return (a[1],-a[0])\n",
    "\n",
    "def posPnt(pnt,pos):\n",
    "    return((pnt[0]+pos[0],pnt[1]+pos[1],pnt[2]+pos[2]))\n",
    "\n",
    "def verticeToScreen(vertice,ang,pos,screen_size):\n",
    "    pnt = rotPnt(ang,vertice)\n",
    "    pnt = posPnt(pnt,pos)\n",
    "    FOV = math.radians(60)\n",
    "    screenHeightWorld = math.tan(FOV/2)*2\n",
    "    pixelsPerUnitWorld = screen_size[1]/screenHeightWorld/pnt[2]\n",
    "    pixelOffset = (pnt[0]*pixelsPerUnitWorld,pnt[1]*pixelsPerUnitWorld)\n",
    "    return ((screen_size[0]/2)+pixelOffset[0],(screen_size[1]/2)+pixelOffset[1])\n",
    "\n",
    "def getlineX(strt_pnt,slope,y):\n",
    "    x0,y0 = strt_pnt\n",
    "    if slope == 0:\n",
    "        return x0 \n",
    "    elif slope == math.inf:\n",
    "        return x0\n",
    "    else:\n",
    "        return int(((y-y0)/slope)+x0)\n",
    "\n",
    "class line_2d():\n",
    "    def __init__(self,a,b):\n",
    "        self.a = a\n",
    "        self.b = b\n",
    "        \n",
    "    def isPointOnRightSide(self,pnt):\n",
    "        ap = (pnt[0]-self.a[0],pnt[1]-self.a[1])\n",
    "        ab_perp = getperpendicular_clock((self.b[0]-self.a[0],self.b[1]-self.a[1]))\n",
    "        return (Dot_2d(ap,ab_perp) >= 0)\n",
    "\n",
    "    def getSlope(self):\n",
    "        subx = (self.a[0] - self.b[0])\n",
    "        if subx == 0:\n",
    "            return math.inf\n",
    "        return (self.a[1] - self.b[1])/subx\n",
    "    \n",
    "class triangle_2d():\n",
    "    def __init__(self,a,b,c,color = (255, 255, 255) ):\n",
    "        stdpnts = sorted([a,b,c], key=lambda tup: tup[1])\n",
    "        #print(stdpnts)\n",
    "        self.a = (int(stdpnts[0][0]),int(stdpnts[0][1]))\n",
    "        self.b = (int(stdpnts[1][0]),int(stdpnts[1][1]))\n",
    "        self.c = (int(stdpnts[2][0]),int(stdpnts[2][1]))\n",
    "        self.ab = line_2d(self.a,self.b)\n",
    "        self.bc = line_2d(self.b,self.c)\n",
    "        self.ca = line_2d(self.c,self.a)\n",
    "        self.ab_slope = self.ab.getSlope()\n",
    "        self.bc_slope = self.bc.getSlope()\n",
    "        self.ca_slope = self.ca.getSlope()\n",
    "        self.color = color\n",
    "    \n",
    "    def triangleArea(self):\n",
    "        ac = (self.c[0]-self.a[0],self.c[1]-self.a[1])\n",
    "        ab_perp = getperpendicular_clock((self.b[0]-self.a[0],self.b[1]-self.a[1]))\n",
    "        return Dot_2d(ac,ab_perp)\n",
    "        \n",
    "    def pointInTriangle(self,pnt):        \n",
    "        max_x = max(self.a[0],self.b[0],self.c[0])\n",
    "        max_y = max(self.a[1],self.b[1],self.c[1])\n",
    "        min_x = min(self.a[0],self.b[0],self.c[0])\n",
    "        min_y = min(self.a[1],self.b[1],self.c[1])\n",
    "        if pnt[0] < max_x and pnt[0]> min_x:\n",
    "            if pnt[1] < max_y and pnt[1]> min_y:\n",
    "                check_ab = self.ab.isPointOnRightSide(pnt)\n",
    "                check_bc = self.bc.isPointOnRightSide(pnt)\n",
    "                check_ca = self.ca.isPointOnRightSide(pnt)\n",
    "                return (check_ab and check_bc and check_ca)\n",
    "        return False\n",
    "\n",
    "    def half_render(self,ystart,ystop,pnt0,pnt1,slope0,slope1,wireframe=False):\n",
    "        for y in range(int(ystart),int(ystop)):\n",
    "            x0 = getlineX(pnt0,slope0,y)\n",
    "            x1 = getlineX(pnt1,slope1,y)             \n",
    "            x0 = max(min(x0, im_size[0]-1), 0)\n",
    "            x1 = max(min(x1, im_size[0]-1), 0)\n",
    "            y = max(min(y, im_size[1]-1), 0)\n",
    "            #print(x0,x1)\n",
    "            #print(slope0,' ',x0) \n",
    "            x_pnts = sorted([x0,x1])\n",
    "            if wireframe:\n",
    "                im.putpixel((x_pnts[0],y), self.color)\n",
    "                im.putpixel((x_pnts[1],y), self.color)\n",
    "            else:\n",
    "                for x in range(x_pnts[0],x_pnts[1]):\n",
    "                    #print(x,y)\n",
    "                    im.putpixel((x,y), self.color)\n",
    "                    \n",
    "    def render(self,im):\n",
    "        #print(self.triangleArea(),\" \",self.a,self.b,self.c)\n",
    "        self.half_render(self.a[1],self.b[1],self.a,self.a,self.ab_slope,self.ca_slope)\n",
    "        self.half_render(self.b[1],self.c[1],self.b,self.a,self.bc_slope,self.ca_slope)\n",
    "\n",
    "    def render_old(self,im):\n",
    "        for x in range(im.size[0]):\n",
    "            for y in range(im.size[1]):\n",
    "                if self.pointInTriangle((x,y)):\n",
    "                    im.putpixel((x,y), self.color)\n",
    "\n",
    "class triangle_3d():\n",
    "    def __init__(self,a,b,c,ang,pos,color = (255, 255, 255) ):\n",
    "        self.a = a\n",
    "        self.b = b\n",
    "        self.c = c\n",
    "        self.color = color\n",
    "        self.ang = ang\n",
    "        self.pos = pos\n",
    "        \n",
    "    def trig_3dToTrig_2d(self):\n",
    "        a_ = verticeToScreen(self.a,self.ang,self.pos,im_size)\n",
    "        b_ = verticeToScreen(self.b,self.ang,self.pos,im_size)\n",
    "        c_ = verticeToScreen(self.c,self.ang,self.pos,im_size)\n",
    "        return triangle_2d(a_,b_,c_,color=self.color)\n",
    "    \n",
    "    def render(self,im):\n",
    "        #self.trig_3dToTrig_2d().render_old(im)\n",
    "        self.trig_3dToTrig_2d().render(im)\n",
    "        \n",
    "class model():\n",
    "    def __init__(self,vertices,faces,triangles):\n",
    "        self.vertices = vertices\n",
    "        self.faces = faces\n",
    "        self.triangles = triangles\n",
    "        self.ang = 0\n",
    "        self.pos= (0,0,2)\n",
    "        self.colorPallet = pastelColorPallet\n",
    "    \n",
    "    def render(self,im):\n",
    "        for j,t_i in enumerate(self.triangles):\n",
    "            a = self.vertices[t_i[0]]\n",
    "            b = self.vertices[t_i[1]]\n",
    "            c = self.vertices[t_i[2]]\n",
    "            t = triangle_3d(a,b,c,self.ang,self.pos,color=self.colorPallet[j%len(self.colorPallet)])\n",
    "            t.render(im)\n",
    "\n",
    "def loadObj(path):\n",
    "    with open(path) as file:\n",
    "        lines = [line.rstrip() for line in file]\n",
    "    triangles = []\n",
    "    faces = []\n",
    "    vertices = []\n",
    "    for line in lines:\n",
    "        if line[0:2] == 'v ':\n",
    "            vertice_str = line[2:].split(' ')\n",
    "            v = []\n",
    "            for item in vertice_str:\n",
    "                v.append(float(item))\n",
    "            #print(v)\n",
    "            vertices.append(v)\n",
    "        if line[0:2] == \"f \":\n",
    "            face_str = line[2:].split(' ')\n",
    "            f = []\n",
    "            for tstr in face_str:\n",
    "                f.append(int(tstr.split('/')[0]))\n",
    "            faces.append(tuple(f))\n",
    "    for face in faces:\n",
    "        #print(face)\n",
    "        a = face[0]-1\n",
    "        for i in range(len(face)-2):\n",
    "            b = face[i+1]-1\n",
    "            c = face[i+2]-1\n",
    "            triangles.append((a,b,c))\n",
    "    \n",
    "    return(model(vertices,faces,triangles))\n",
    "\n",
    "\n"
   ]
  },
  {
   "cell_type": "code",
   "execution_count": 16,
   "id": "12108981-47e8-4540-ad0b-69d4d55f1c1d",
   "metadata": {},
   "outputs": [
    {
     "data": {
      "image/jpeg": "[encoded data removed]",
      "image/png": "[encoded data removed]",
      "text/plain": [
       "<PIL.Image.Image image mode=RGB size=240x240>"
      ]
     },
     "execution_count": 16,
     "metadata": {},
     "output_type": "execute_result"
    }
   ],
   "source": [
    "im = Image.new('RGB', im_size)\n",
    "tri0 = triangle_2d((60,50),(50,100),(100,150))\n",
    "tri1 = triangle_2d((100,50),(90,100),(140,30))\n",
    "tri2 = triangle_2d((130,120),(200,120),(170,40))\n",
    "tri0.render(im)\n",
    "tri1.render(im)\n",
    "tri2.render(im)\n",
    "#tring.renderPoints(im)\n",
    "im"
   ]
  },
  {
   "cell_type": "code",
   "execution_count": 17,
   "id": "8e997861-ece4-4373-8cbc-a7a2194891fc",
   "metadata": {},
   "outputs": [
    {
     "data": {
      "image/jpeg": "[encoded data removed]",
      "image/png": "[encoded data removed]",
      "text/plain": [
       "<PIL.Image.Image image mode=RGB size=240x240>"
      ]
     },
     "execution_count": 17,
     "metadata": {},
     "output_type": "execute_result"
    }
   ],
   "source": [
    "im = Image.new('RGB', im_size)\n",
    "tri0 = triangle_2d((189, 51), (50, 51), (51, 190),color=pastelColorPallet[0])\n",
    "tri1 = triangle_2d((189, 51), (51, 190), (188, 190),color=pastelColorPallet[1])\n",
    "tri2 = triangle_2d((189, 51), (161, 77), (188, 190),color=pastelColorPallet[2])\n",
    "tri3 = triangle_2d((161, 77), (161, 160), (188, 190),color=pastelColorPallet[3])\n",
    "tri0.render(im)\n",
    "tri1.render(im)\n",
    "tri2.render(im)\n",
    "tri3.render(im)\n",
    "#tring.renderPoints(im)\n",
    "im"
   ]
  },
  {
   "cell_type": "code",
   "execution_count": 18,
   "id": "6664edee-059e-4f7f-9532-0bd10eda2a2a",
   "metadata": {},
   "outputs": [
    {
     "data": {
      "image/jpeg": "[encoded data removed]",
      "image/png": "[encoded data removed]",
      "text/plain": [
       "<PIL.Image.Image image mode=RGB size=240x240>"
      ]
     },
     "execution_count": 18,
     "metadata": {},
     "output_type": "execute_result"
    }
   ],
   "source": [
    "im = Image.new('RGB', im_size)\n",
    "trg1 = triangle_2d((49, 51),(79, 161),(100, 188),color=pastelColorPallet[1])\n",
    "trg1.render(im)\n",
    "im\n"
   ]
  },
  {
   "cell_type": "code",
   "execution_count": 743,
   "id": "1b0b7a59-ec05-4677-856d-ccf76807a05d",
   "metadata": {},
   "outputs": [
    {
     "data": {
      "text/plain": [
       "[(50.31612163888204, 51.54288619836234),\n",
       " (161.71609935864785, 77.5622078843557),\n",
       " (78.28390064135215, 77.5622078843557)]"
      ]
     },
     "execution_count": 743,
     "metadata": {},
     "output_type": "execute_result"
    }
   ],
   "source": [
    "[(78.57411502209209, 160.6965942333164), (161.4258849779079, 160.6965942333164), (188.8778408024291, 190.06943444586406)]\n",
    "[(78.57411502209209, 160.6965942333164), (188.8778408024291, 190.06943444586406), (51.12215919757092, 190.06943444586406)]\n",
    "[(50.31612163888204, 51.54288619836234), (189.68387836111796, 51.54288619836234), (161.71609935864785, 77.5622078843557)]\n",
    "[(50.31612163888204, 51.54288619836234), (161.71609935864785, 77.5622078843557), (78.28390064135215, 77.5622078843557)]"
   ]
  },
  {
   "cell_type": "code",
   "execution_count": 744,
   "id": "17d41c51-ffb5-4265-9080-dae32a90640c",
   "metadata": {},
   "outputs": [
    {
     "name": "stdout",
     "output_type": "stream",
     "text": [
      "10000   (100, 100) (50, 150) (200, 200)\n"
     ]
    },
    {
     "data": {
      "image/jpeg": "[encoded data removed]",
      "image/png": "[encoded data removed]",
      "text/plain": [
       "<PIL.Image.Image image mode=RGB size=240x240>"
      ]
     },
     "execution_count": 744,
     "metadata": {},
     "output_type": "execute_result"
    }
   ],
   "source": [
    "im = Image.new('RGB', im_size)\n",
    "trg1 = triangle_2d((100,100),(50,150),(200,200),color=pastelColorPallet[1])\n",
    "trg1.render(im)\n",
    "im"
   ]
  },
  {
   "cell_type": "code",
   "execution_count": 22,
   "id": "d2270ce2-ebef-4843-bc43-a4a40342da13",
   "metadata": {},
   "outputs": [
    {
     "name": "stdout",
     "output_type": "stream",
     "text": [
      "(3, 6, 4)\n",
      "(3, 4, 1)\n",
      "(2, 3, 1)\n",
      "(2, 1, 0)\n",
      "(7, 2, 0)\n",
      "(7, 0, 5)\n",
      "(6, 7, 5)\n",
      "(6, 5, 4)\n",
      "(5, 0, 1)\n",
      "(5, 1, 4)\n",
      "(6, 3, 2)\n",
      "(6, 2, 7)\n",
      "[0.5, 0.5, 0.5]\n",
      "[0.5, 0.5, -0.5]\n",
      "[0.5, -0.5, 0.5]\n",
      "[0.5, -0.5, -0.5]\n",
      "[-0.5, 0.5, -0.5]\n",
      "[-0.5, 0.5, 0.5]\n",
      "[-0.5, -0.5, -0.5]\n",
      "[-0.5, -0.5, 0.5]\n"
     ]
    }
   ],
   "source": [
    "cube = loadObj('3d_models/cube.obj')\n",
    "for t in cube.triangles:\n",
    "    print(t)\n",
    "for v in cube.vertices:\n",
    "    print(v)"
   ]
  },
  {
   "cell_type": "code",
   "execution_count": 24,
   "id": "11ee1215-a062-40a3-83c9-87f1237873b4",
   "metadata": {},
   "outputs": [
    {
     "data": {
      "image/jpeg": "[encoded data removed]",
      "image/png": "[encoded data removed]",
      "text/plain": [
       "<PIL.Image.Image image mode=RGB size=240x240>"
      ]
     },
     "metadata": {},
     "output_type": "display_data"
    }
   ],
   "source": [
    "j = 0\n",
    "i = 0\n",
    "for j in range(360):\n",
    "    im = Image.new('RGB', im_size)\n",
    "    clear_output(wait=True)\n",
    "    cube.ang = (i,j)\n",
    "    cube.render(im)\n",
    "    display(im)"
   ]
  },
  {
   "cell_type": "code",
   "execution_count": 19,
   "id": "db25493f-df60-43a6-87de-fc4ca9aa3624",
   "metadata": {},
   "outputs": [
    {
     "data": {
      "image/jpeg": "[encoded data removed]",
      "image/png": "[encoded data removed]",
      "text/plain": [
       "<PIL.Image.Image image mode=RGB size=240x240>"
      ]
     },
     "metadata": {},
     "output_type": "display_data"
    }
   ],
   "source": [
    "j = 0\n",
    "i = 180\n",
    "base = loadObj('3d_models/base.obj')\n",
    "base.pos = (0,1,2)\n",
    "base.colorPallet = [(155,113,88)]\n",
    "\n",
    "trunk = loadObj('3d_models/sproutTrunk.obj')\n",
    "trunk.pos = (0,1,2)\n",
    "trunk.colorPallet = [(97,126,48)]\n",
    "\n",
    "leaf = loadObj('3d_models/leaf.obj')\n",
    "leaf.pos = (0,0.7,2)\n",
    "leaf.colorPallet = [(144,186,72)]\n",
    "\n",
    "for j in range(360):\n",
    "    im = Image.new('RGB', im_size)\n",
    "    clear_output(wait=True)\n",
    "    base.ang = (i,j)\n",
    "    base.render(im)\n",
    "    trunk.ang = (i,j)\n",
    "    trunk.render(im)\n",
    "    leaf.ang = (i,j)\n",
    "    leaf.render(im)\n",
    "    display(im)"
   ]
  },
  {
   "cell_type": "code",
   "execution_count": null,
   "id": "ecd497a5-e7ac-49ab-bcc2-8caefb3b355d",
   "metadata": {},
   "outputs": [],
   "source": []
  },
  {
   "cell_type": "code",
   "execution_count": null,
   "id": "1d33d4f6-fc4e-4658-9c96-7e8303969e0b",
   "metadata": {},
   "outputs": [],
   "source": []
  }
 ],
 "metadata": {
  "kernelspec": {
   "display_name": "Python 3 (ipykernel)",
   "language": "python",
   "name": "python3"
  },
  "language_info": {
   "codemirror_mode": {
    "name": "ipython",
    "version": 3
   },
   "file_extension": ".py",
   "mimetype": "text/x-python",
   "name": "python",
   "nbconvert_exporter": "python",
   "pygments_lexer": "ipython3",
   "version": "3.13.7"
  }
 },
 "nbformat": 4,
 "nbformat_minor": 5
}
